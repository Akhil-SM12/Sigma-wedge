{
 "cells": [
  {
   "cell_type": "code",
   "execution_count": 2,
   "id": "109ee4e5-f638-458a-a842-3a5ace2daaf7",
   "metadata": {
    "tags": []
   },
   "outputs": [],
   "source": [
    "from quantrocket import get_prices\n",
    "prices = get_prices(\"usstock-free-1d\", universes=\"usstock-free\", start_date=\"2023-01-01\", end_date=\"2023-12-31\", fields=[\"Close\"])\n",
    "close_prices = prices['FIBBG000B9XRY4']"
   ]
  },
  {
   "cell_type": "code",
   "execution_count": 3,
   "id": "f4dc93b5-7535-4213-9a1b-396eaf3bee36",
   "metadata": {},
   "outputs": [
    {
     "name": "stdout",
     "output_type": "stream",
     "text": [
      "Field  Date      \n",
      "Close  2023-01-03    124.2163\n",
      "       2023-01-04    125.4975\n",
      "       2023-01-05    124.1666\n",
      "       2023-01-06    128.7352\n",
      "       2023-01-09    129.2616\n",
      "                       ...   \n",
      "       2023-12-22    193.3533\n",
      "       2023-12-26    192.8040\n",
      "       2023-12-27    192.9038\n",
      "       2023-12-28    193.3333\n",
      "       2023-12-29    192.2846\n",
      "Name: FIBBG000B9XRY4, Length: 250, dtype: float64\n"
     ]
    }
   ],
   "source": [
    "print(close_prices)"
   ]
  },
  {
   "cell_type": "code",
   "execution_count": null,
   "id": "ade57483-19c7-4311-812b-7dbf83217a37",
   "metadata": {},
   "outputs": [],
   "source": [
    "r_list=[]\n",
    "r_list.append(0)\n",
    "for i in range(1,len(close_prices)):\n",
    "    r_list.append((close_prices[i]-close_prices[i-1])/close_prices[i-1])\n",
    "def f1(a):\n",
    "    if a>=0.1:\n",
    "        return 1\n",
    "    elif a>-0.1\n",
    "        return 0\n",
    "    else:\n",
    "        return -1\n",
    "s_list=[f1(b) for b in r_list]\n",
    "    \n",
    "    "
   ]
  }
 ],
 "metadata": {
  "kernelspec": {
   "display_name": "Python 3.9",
   "language": "python",
   "name": "python3"
  },
  "language_info": {
   "codemirror_mode": {
    "name": "ipython",
    "version": 3
   },
   "file_extension": ".py",
   "mimetype": "text/x-python",
   "name": "python",
   "nbconvert_exporter": "python",
   "pygments_lexer": "ipython3",
   "version": "3.9.12"
  }
 },
 "nbformat": 4,
 "nbformat_minor": 5
}
